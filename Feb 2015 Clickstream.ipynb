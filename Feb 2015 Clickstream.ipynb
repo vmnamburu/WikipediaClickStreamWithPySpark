{
 "cells": [
  {
   "cell_type": "markdown",
   "metadata": {},
   "source": [
    "## 1. Understand File structure of the Clickstream file"
   ]
  },
  {
   "cell_type": "markdown",
   "metadata": {},
   "source": [
    "#### 1.1 Download Feb 2015 clickstream file"
   ]
  },
  {
   "cell_type": "markdown",
   "metadata": {},
   "source": [
    "https://ndownloader.figshare.com/files/5036383"
   ]
  },
  {
   "cell_type": "markdown",
   "metadata": {},
   "source": [
    "#### 1.2 Examine the content and structure of this file"
   ]
  },
  {
   "cell_type": "code",
   "execution_count": null,
   "metadata": {
    "collapsed": true
   },
   "outputs": [],
   "source": [
    "[cloudera@quickstart wikiClickStream]$ head 2015_02_en_clickstream.tsv\n",
    "prev_id curr_id n       prev_title      curr_title      type\n",
    "        3632887 121     other-google    !!      other\n",
    "        3632887 93      other-wikipedia !!      other\n",
    "        3632887 46      other-empty     !!      other\n",
    "        3632887 10      other-other     !!      other\n",
    "64486   3632887 11      !_(disambiguation)      !!      other\n",
    "2061699 2556962 19      Louden_Up_Now   !!!_(album)     link\n"
   ]
  },
  {
   "cell_type": "markdown",
   "metadata": {},
   "source": [
    "The file contains information of the requestor and resource pairs with total number of visits\n",
    "Each line has "
   ]
  },
  {
   "cell_type": "markdown",
   "metadata": {},
   "source": [
    "__prev_id :__"
   ]
  },
  {
   "cell_type": "markdown",
   "metadata": {},
   "source": [
    "The wikipedia page ID from which the user has requested another wikipedia page. A non-empty number indicates n users have visited the page (curr_id,curr_title) page from the page (prev_id,prev_title)"
   ]
  },
  {
   "cell_type": "markdown",
   "metadata": {},
   "source": [
    "__curr_id :__"
   ]
  },
  {
   "cell_type": "markdown",
   "metadata": {},
   "source": [
    "The wikipedia page ID to which the user has navigated from another page"
   ]
  },
  {
   "cell_type": "markdown",
   "metadata": {},
   "source": [
    "__n:__"
   ]
  },
  {
   "cell_type": "markdown",
   "metadata": {},
   "source": [
    "Total number of requests for the combination of (prev_id,prev_title) to (curr_id,curr_title)\n"
   ]
  },
  {
   "cell_type": "markdown",
   "metadata": {},
   "source": [
    "__prev_title:__"
   ]
  },
  {
   "cell_type": "markdown",
   "metadata": {},
   "source": [
    "The title of the wikipediae page or an external source . \n",
    "Titles like other-google, other-bing indicate, the request came from external sources to wikipedia\n"
   ]
  },
  {
   "cell_type": "markdown",
   "metadata": {},
   "source": [
    "__curr_title:__"
   ]
  },
  {
   "cell_type": "markdown",
   "metadata": {},
   "source": [
    " The title of the requested wikipedia page"
   ]
  },
  {
   "cell_type": "markdown",
   "metadata": {},
   "source": [
    "__type:__"
   ]
  },
  {
   "cell_type": "markdown",
   "metadata": {},
   "source": [
    "Type of link from the source to reqeuest page"
   ]
  },
  {
   "cell_type": "markdown",
   "metadata": {},
   "source": [
    "#### 1.3 Example lines from the file for WikiPage of Lucasfilm"
   ]
  },
  {
   "cell_type": "code",
   "execution_count": null,
   "metadata": {
    "collapsed": true
   },
   "outputs": [],
   "source": [
    "80872   28932764        72      Lucasfilm       Star_Tours—The_Adventures_Continue      link\n",
    "80872   10269131        75      Lucasfilm       Star_Wars:_The_Clone_Wars_(2008_TV_series)      link\n",
    "80872   14723194        1096    Lucasfilm       Star_Wars:_The_Force_Awakens    link"
   ]
  },
  {
   "cell_type": "markdown",
   "metadata": {
    "collapsed": true
   },
   "source": [
    "These 3 lines indicate\n",
    "1. __80872__ is the ID of the page [__Lucasfilm__](https://en.wikipedia.org/wiki/Lucasfilm)\n",
    "1. __72__ requests from __Lucasfilm__ page to the page [__Star_Tours—The_Adventures_Continue__](https://en.wikipedia.org/wiki/Star_Tours_%E2%80%93_The_Adventures_Continue), whose ID is 28932764\n",
    "2. __75__ requests from __Lucasfilm__ page to the page [__Star_Wars:_The_Clone_Wars_(2008_TV_series)__](https://en.wikipedia.org/wiki/Star_Wars:_The_Clone_Wars_(2008_TV_series), whose ID is 10269131\n",
    "3. __1096__ requests from __Lucasfilm__ page to the page [__Star_Wars:_The_Force_Awakens__](https://en.wikipedia.org/wiki/Star_Wars%3A_The_Force_Awakens), whose ID is 14723194"
   ]
  },
  {
   "cell_type": "markdown",
   "metadata": {},
   "source": [
    "#### 1.4 Example lines for Star Wars Episode II resulting from a Google Search"
   ]
  },
  {
   "cell_type": "code",
   "execution_count": null,
   "metadata": {
    "collapsed": true
   },
   "outputs": [],
   "source": [
    "        4936424 48      other-google    Star_Wars_Episode_II:_Attack_of_the_Clones_(novel)      other\n",
    "        4398290 459     other-google    Star_Wars_Episode_II:_Attack_of_the_Clones_(soundtrack) other\n",
    "        4734835 95      other-google    Star_Wars_Episode_II:_Attack_of_the_Clones_(video_game) other"
   ]
  },
  {
   "cell_type": "markdown",
   "metadata": {},
   "source": [
    "#### 1.5 Examples lines for Star Wars directed from Social Networks (Twitter)"
   ]
  },
  {
   "cell_type": "code",
   "execution_count": null,
   "metadata": {
    "collapsed": true
   },
   "outputs": [],
   "source": [
    "        10269131        47      other-twitter   Star_Wars:_The_Clone_Wars_(2008_TV_series)      other\n",
    "        2885266 150     other-twitter   Star_Wars:_The_Empire_Strikes_Back_(1985_video_game)    other"
   ]
  },
  {
   "cell_type": "markdown",
   "metadata": {},
   "source": [
    "### 2. Convert the File to a Spark Dataframe to perform analysis"
   ]
  },
  {
   "cell_type": "code",
   "execution_count": 1,
   "metadata": {
    "collapsed": true
   },
   "outputs": [],
   "source": [
    "# Import pyspark libraries\n",
    "from pyspark.sql import Row,SQLContext\n",
    "from pyspark.sql import functions as F\n",
    "from pyspark.sql.functions import udf\n",
    "from pyspark.sql.types import BooleanType"
   ]
  },
  {
   "cell_type": "code",
   "execution_count": 2,
   "metadata": {
    "collapsed": true
   },
   "outputs": [],
   "source": [
    "#Create SQLContext\n",
    "sqlCtx = SQLContext(sc)"
   ]
  },
  {
   "cell_type": "markdown",
   "metadata": {},
   "source": [
    "#### 2.1 Create a function to convert empty strings to a -ve numeric value. int() on empty string fails"
   ]
  },
  {
   "cell_type": "code",
   "execution_count": 3,
   "metadata": {
    "collapsed": true
   },
   "outputs": [],
   "source": [
    "def getInt(field):\n",
    "    if field == '':\n",
    "        return -1\n",
    "    else:\n",
    "        return int(field)"
   ]
  },
  {
   "cell_type": "markdown",
   "metadata": {},
   "source": [
    "#### 2.2 Create a functiont to convert each line to a Row object"
   ]
  },
  {
   "cell_type": "code",
   "execution_count": 4,
   "metadata": {
    "collapsed": true
   },
   "outputs": [],
   "source": [
    "def convertToRow(line):\n",
    "    prev_id,curr_id,cnt,prev_title,curr_title,type=line.split('\\t')\n",
    "    return Row(prev_id=getInt(prev_id),curr_id=getInt(curr_id),n=int(cnt),prev_title=prev_title,curr_title=curr_title,type=type)"
   ]
  },
  {
   "cell_type": "markdown",
   "metadata": {},
   "source": [
    "#### 2.3 Load the clickstream file to RDD"
   ]
  },
  {
   "cell_type": "code",
   "execution_count": 5,
   "metadata": {
    "collapsed": false
   },
   "outputs": [
    {
     "data": {
      "text/plain": [
       "[Row(curr_id=3632887, curr_title=u'!!', n=121, prev_id=-1, prev_title=u'other-google', type=u'other'),\n",
       " Row(curr_id=3632887, curr_title=u'!!', n=93, prev_id=-1, prev_title=u'other-wikipedia', type=u'other')]"
      ]
     },
     "execution_count": 5,
     "metadata": {},
     "output_type": "execute_result"
    }
   ],
   "source": [
    "clickRDD = sc.textFile('/user/cloudera/wikiClickstream/2015_02_en_clickstream.tsv').map(convertToRow)\n",
    "clickRDD.take(2)"
   ]
  },
  {
   "cell_type": "markdown",
   "metadata": {},
   "source": [
    "#### 2.4 Create a Dataframe from the RDD"
   ]
  },
  {
   "cell_type": "code",
   "execution_count": 6,
   "metadata": {
    "collapsed": false
   },
   "outputs": [
    {
     "name": "stdout",
     "output_type": "stream",
     "text": [
      "+--------+-------------+---+--------+--------------------+-----+\n",
      "| curr_id|   curr_title|  n| prev_id|          prev_title| type|\n",
      "+--------+-------------+---+--------+--------------------+-----+\n",
      "| 3632887|           !!|121|      -1|        other-google|other|\n",
      "| 3632887|           !!| 93|      -1|     other-wikipedia|other|\n",
      "| 3632887|           !!| 46|      -1|         other-empty|other|\n",
      "| 3632887|           !!| 10|      -1|         other-other|other|\n",
      "| 3632887|           !!| 11|   64486|  !_(disambiguation)|other|\n",
      "| 2556962|  !!!_(album)| 19| 2061699|       Louden_Up_Now| link|\n",
      "| 2556962|  !!!_(album)| 25|      -1|         other-empty|other|\n",
      "| 2556962|  !!!_(album)| 16|      -1|        other-google|other|\n",
      "| 2556962|  !!!_(album)| 44|      -1|     other-wikipedia|other|\n",
      "| 2556962|  !!!_(album)| 15|   64486|  !_(disambiguation)| link|\n",
      "| 2556962|  !!!_(album)|297|  600744|                 !!!| link|\n",
      "| 6893310|!Hero_(album)| 11|      -1|         other-empty|other|\n",
      "| 6893310|!Hero_(album)| 26| 1921683|               !Hero| link|\n",
      "| 6893310|!Hero_(album)| 16|      -1|     other-wikipedia|other|\n",
      "| 6893310|!Hero_(album)| 23|      -1|        other-google|other|\n",
      "|22602473|   !Oka_Tokat| 16| 8127304|     Jericho_Rosales| link|\n",
      "|22602473|   !Oka_Tokat| 20|35978874|List_of_telenovel...| link|\n",
      "|22602473|   !Oka_Tokat| 57|      -1|        other-google|other|\n",
      "|22602473|   !Oka_Tokat| 12|      -1|     other-wikipedia|other|\n",
      "|22602473|   !Oka_Tokat| 23|      -1|         other-empty|other|\n",
      "+--------+-------------+---+--------+--------------------+-----+\n",
      "only showing top 20 rows\n",
      "\n"
     ]
    }
   ],
   "source": [
    "clickDF = sqlCtx.createDataFrame(clickRDD)\n",
    "clickDF.show()"
   ]
  },
  {
   "cell_type": "markdown",
   "metadata": {},
   "source": [
    "### 3 Analyse what are the top searches leading to Wikipedia in Feb 2015"
   ]
  },
  {
   "cell_type": "markdown",
   "metadata": {},
   "source": [
    "### 3.1 Analyse the Clickstream using Spark Dataframes"
   ]
  },
  {
   "cell_type": "markdown",
   "metadata": {},
   "source": [
    "##### 3.1.1 Create a function to apply as a filter"
   ]
  },
  {
   "cell_type": "code",
   "execution_count": 7,
   "metadata": {
    "collapsed": true
   },
   "outputs": [],
   "source": [
    "def fromSearchProvider(prevTitle):\n",
    "    searchProviders = ['other-yahoo','other-bing','other-google']\n",
    "    if prevTitle in searchProviders:\n",
    "        return True\n",
    "    else:\n",
    "        return False"
   ]
  },
  {
   "cell_type": "markdown",
   "metadata": {},
   "source": [
    "##### 3.1.2 Create an UDF to supply fromSearchProvider as filter function"
   ]
  },
  {
   "cell_type": "code",
   "execution_count": 8,
   "metadata": {
    "collapsed": false
   },
   "outputs": [
    {
     "name": "stdout",
     "output_type": "stream",
     "text": [
      "+--------+--------------------+----+-------+------------+-----+\n",
      "| curr_id|          curr_title|   n|prev_id|  prev_title| type|\n",
      "+--------+--------------------+----+-------+------------+-----+\n",
      "| 3632887|                  !!| 121|     -1|other-google|other|\n",
      "| 2556962|         !!!_(album)|  16|     -1|other-google|other|\n",
      "| 6893310|       !Hero_(album)|  23|     -1|other-google|other|\n",
      "|22602473|          !Oka_Tokat|  57|     -1|other-google|other|\n",
      "| 6810768|          !T.O.O.H.!|  81|     -1|other-google|other|\n",
      "|  899480|          \"A\"_Device|  17|     -1|other-google|other|\n",
      "| 1282996|    \"A\"_Is_for_Alibi|  10|     -1| other-yahoo|other|\n",
      "| 1282996|    \"A\"_Is_for_Alibi| 272|     -1|other-google|other|\n",
      "| 9003666|\"And\"_theory_of_c...|  18|     -1|other-google|other|\n",
      "|39072529|\"Bassy\"_Bob_Brock...|  49|     -1|other-google|other|\n",
      "|25033979|\"C\"_is_for_(Pleas...|  93|     -1|other-google|other|\n",
      "|  331586|  \"Crocodile\"_Dundee|6820|     -1|other-google|other|\n",
      "|  331586|  \"Crocodile\"_Dundee| 274|     -1| other-yahoo|other|\n",
      "|  331586|  \"Crocodile\"_Dundee| 417|     -1|  other-bing|other|\n",
      "|16250593| \"D\"_Is_for_Deadbeat|  21|     -1|other-google|other|\n",
      "|39304968|\"David_Hockney:_A...| 108|     -1|other-google|other|\n",
      "| 1896643|\"Dr._Death\"_Steve...|1227|     -1|other-google|other|\n",
      "| 1896643|\"Dr._Death\"_Steve...|  70|     -1| other-yahoo|other|\n",
      "| 1896643|\"Dr._Death\"_Steve...|  75|     -1|  other-bing|other|\n",
      "|16251903| \"E\"_Is_for_Evidence|  26|     -1|other-google|other|\n",
      "+--------+--------------------+----+-------+------------+-----+\n",
      "only showing top 20 rows\n",
      "\n"
     ]
    }
   ],
   "source": [
    "search_filter = udf(fromSearchProvider,BooleanType())\n",
    "clickSearch = clickDF.filter(search_filter(clickDF.prev_title))\n",
    "clickSearch.show()"
   ]
  },
  {
   "cell_type": "markdown",
   "metadata": {},
   "source": [
    "##### 3.1.3 Find the top pages referred from search Engines"
   ]
  },
  {
   "cell_type": "code",
   "execution_count": 9,
   "metadata": {
    "collapsed": false
   },
   "outputs": [
    {
     "name": "stdout",
     "output_type": "stream",
     "text": [
      "+--------------------+------------+\n",
      "|          curr_title|total_search|\n",
      "+--------------------+------------+\n",
      "|           Main_Page|     4171329|\n",
      "|Fifty_Shades_of_Grey|     1903372|\n",
      "|          Chris_Kyle|     1293055|\n",
      "|    Alessandro_Volta|     1160284|\n",
      "|     Stephen_Hawking|     1037257|\n",
      "|    Better_Call_Saul|      989149|\n",
      "|      Birdman_(film)|      982244|\n",
      "|Fifty_Shades_of_G...|      877027|\n",
      "|     Valentine's_Day|      831627|\n",
      "| 87th_Academy_Awards|      794562|\n",
      "|Islamic_State_of_...|      775541|\n",
      "|    Chinese_New_Year|      740223|\n",
      "|       Leonard_Nimoy|      683814|\n",
      "|List_of_Bollywood...|      653926|\n",
      "|        Bruce_Jenner|      629555|\n",
      "|      Sia_(musician)|      618234|\n",
      "|      Lunar_New_Year|      602595|\n",
      "|      Dakota_Johnson|      598695|\n",
      "|The_Walking_Dead_...|      581170|\n",
      "|The_Flash_(2014_T...|      558487|\n",
      "+--------------------+------------+\n",
      "only showing top 20 rows\n",
      "\n"
     ]
    }
   ],
   "source": [
    "searchVolume = clickSearch.groupBy(clickSearch.curr_title).agg(F.sum('n').alias('total_search')).orderBy('total_search',ascending=False)\n",
    "searchVolume.show()"
   ]
  },
  {
   "cell_type": "markdown",
   "metadata": {},
   "source": [
    "####  3.2 Analysis using Spark SQL"
   ]
  },
  {
   "cell_type": "markdown",
   "metadata": {},
   "source": [
    "#### 3.2.1 Register DataFrame as a table"
   ]
  },
  {
   "cell_type": "code",
   "execution_count": 10,
   "metadata": {
    "collapsed": true
   },
   "outputs": [],
   "source": [
    "clickDF.registerTempTable('wikiclickstream')"
   ]
  },
  {
   "cell_type": "code",
   "execution_count": 11,
   "metadata": {
    "collapsed": false
   },
   "outputs": [
    {
     "name": "stdout",
     "output_type": "stream",
     "text": [
      "+--------------------+------------+\n",
      "|          curr_title|total_search|\n",
      "+--------------------+------------+\n",
      "|           Main_Page|     4171329|\n",
      "|Fifty_Shades_of_Grey|     1903372|\n",
      "|          Chris_Kyle|     1293055|\n",
      "|    Alessandro_Volta|     1160284|\n",
      "|     Stephen_Hawking|     1037257|\n",
      "|    Better_Call_Saul|      989149|\n",
      "|      Birdman_(film)|      982244|\n",
      "|Fifty_Shades_of_G...|      877027|\n",
      "|     Valentine's_Day|      831627|\n",
      "| 87th_Academy_Awards|      794562|\n",
      "|Islamic_State_of_...|      775541|\n",
      "|    Chinese_New_Year|      740223|\n",
      "|       Leonard_Nimoy|      683814|\n",
      "|List_of_Bollywood...|      653926|\n",
      "|        Bruce_Jenner|      629555|\n",
      "|      Sia_(musician)|      618234|\n",
      "|      Lunar_New_Year|      602595|\n",
      "|      Dakota_Johnson|      598695|\n",
      "|The_Walking_Dead_...|      581170|\n",
      "|The_Flash_(2014_T...|      558487|\n",
      "+--------------------+------------+\n",
      "only showing top 20 rows\n",
      "\n"
     ]
    }
   ],
   "source": [
    "clickSearchSQL = sqlCtx.sql(\"select curr_title,sum(n) as total_search from wikiclickstream where prev_title in ('other-yahoo','other-bing','other-google') group by curr_title order by total_search desc\")\n",
    "clickSearchSQL.show()"
   ]
  },
  {
   "cell_type": "markdown",
   "metadata": {},
   "source": [
    "Why are these the top topics searched in Feb 2015 \n",
    "\n",
    "__Movies__\n",
    "1. __Fifty Shades of Grey__ released in Feb 2015 featuring __Dakota Johnson__\n",
    "2. __Birdman__ won 4 awards in __87th Academy Awards__\n",
    "\n",
    "__People__\n",
    "1. __Alessandro Volta__ is an Italian Physicist born on 14 Feb 1745. Google published a [Doodle](https://www.theguardian.com/science/the-h-word/2015/feb/18/alessandro-volta-anniversary-electricity-history-science), the potential reason for being one of the most searched Person in Feb 2015\n",
    "2. __Chris Kyle__ a US Navy SEAL and sniper died in Feb\n",
    "3. __Stephen Hawking__ attended an awards function for his biopic *Theory of Everything*\n",
    "4. __Leonard_Nimoy__, the *Spock* of *Star Trek* died on 27 Feb 2015\n",
    "\n",
    "__Events or Occassions__\n",
    "1. __Chinese New year__ or __Lunar New Year__ is celebrated on 19 February 2015\n",
    "2. __Valentines Day__ is on 14th February"
   ]
  },
  {
   "cell_type": "markdown",
   "metadata": {},
   "source": [
    "###### *Note: Spark SQL code came out simple and elegant compared to DataFrame*"
   ]
  },
  {
   "cell_type": "markdown",
   "metadata": {},
   "source": [
    "### 4 Analyse what are the top searches from Social Networks leading to Wikipedia in Feb 2015"
   ]
  },
  {
   "cell_type": "markdown",
   "metadata": {},
   "source": [
    "#### 4.1 Analyse the Clickstream using Spark Dataframes"
   ]
  },
  {
   "cell_type": "markdown",
   "metadata": {},
   "source": [
    "##### 4.1.1 Create a function to apply as a filter for social networks"
   ]
  },
  {
   "cell_type": "code",
   "execution_count": 12,
   "metadata": {
    "collapsed": true
   },
   "outputs": [],
   "source": [
    "def fromSocialNetwork(prevTitle):\n",
    "    searchProviders = ['other-twitter','other-facebook']\n",
    "    if prevTitle in searchProviders:\n",
    "        return True\n",
    "    else:\n",
    "        return False"
   ]
  },
  {
   "cell_type": "markdown",
   "metadata": {},
   "source": [
    "##### 4.1.2 Create an UDF to supply fromSocialNetwork as filter function"
   ]
  },
  {
   "cell_type": "code",
   "execution_count": 13,
   "metadata": {
    "collapsed": false
   },
   "outputs": [
    {
     "name": "stdout",
     "output_type": "stream",
     "text": [
      "+--------+--------------------+---+-------+--------------+-----+\n",
      "| curr_id|          curr_title|  n|prev_id|    prev_title| type|\n",
      "+--------+--------------------+---+-------+--------------+-----+\n",
      "|  331586|  \"Crocodile\"_Dundee| 20|     -1| other-twitter|other|\n",
      "| 1261557|            \"Heroes\"| 13|     -1| other-twitter|other|\n",
      "| 3564374|     \"I_AM\"_Activity| 33|     -1|other-facebook|other|\n",
      "| 3564374|     \"I_AM\"_Activity| 24|     -1| other-twitter|other|\n",
      "|18938265| \"Weird_Al\"_Yankovic|406|     -1| other-twitter|other|\n",
      "|18938265| \"Weird_Al\"_Yankovic| 33|     -1|other-facebook|other|\n",
      "| 7630017|\"Weird_Al\"_Yankov...| 67|     -1| other-twitter|other|\n",
      "| 1578140|                  %s| 13|     -1| other-twitter|other|\n",
      "|    2676|    'Abd_al-Rahman_I| 16|     -1| other-twitter|other|\n",
      "|  430164|        'Allo_'Allo!| 13|     -1|other-facebook|other|\n",
      "|  430164|        'Allo_'Allo!| 67|     -1| other-twitter|other|\n",
      "|  175149|        'Pataphysics| 36|     -1|other-facebook|other|\n",
      "|  175149|        'Pataphysics| 96|     -1| other-twitter|other|\n",
      "| 1917971|                  's| 12|     -1| other-twitter|other|\n",
      "|   50338|    's-Hertogenbosch| 16|     -1|other-facebook|other|\n",
      "|   50338|    's-Hertogenbosch| 10|     -1| other-twitter|other|\n",
      "|42995159|  (357439)_2004_BL86| 30|     -1|other-facebook|other|\n",
      "|42995159|  (357439)_2004_BL86| 24|     -1| other-twitter|other|\n",
      "| 1506853|(Don't_Fear)_The_...|172|     -1| other-twitter|other|\n",
      "| 2448083|(Everything_I_Do)...| 16|     -1| other-twitter|other|\n",
      "+--------+--------------------+---+-------+--------------+-----+\n",
      "only showing top 20 rows\n",
      "\n"
     ]
    }
   ],
   "source": [
    "social_filter = udf(fromSocialNetwork,BooleanType())\n",
    "clickSocial = clickDF.filter(social_filter(clickDF.prev_title))\n",
    "clickSocial.show()"
   ]
  },
  {
   "cell_type": "markdown",
   "metadata": {},
   "source": [
    "##### 4.1.3 Find the top pages referred from social network sites"
   ]
  },
  {
   "cell_type": "code",
   "execution_count": 14,
   "metadata": {
    "collapsed": false
   },
   "outputs": [
    {
     "name": "stdout",
     "output_type": "stream",
     "text": [
      "+--------------------+------------+\n",
      "|          curr_title|total_social|\n",
      "+--------------------+------------+\n",
      "|    Johnny_Knoxville|      198976|\n",
      "|      Peter_Woodcock|      126378|\n",
      "|2002_Tampa_plane_...|      120955|\n",
      "|      Sơn_Đoòng_Cave|      116126|\n",
      "|       The_boy_Jones|      114524|\n",
      "|             War_pig|      114138|\n",
      "|William_Leonard_P...|      113906|\n",
      "|Hurt_(Nine_Inch_N...|      103562|\n",
      "|     Glass_recycling|       87995|\n",
      "|Assassination_of_...|       86445|\n",
      "|    Fury_(2014_film)|       80297|\n",
      "|    Mullet_(haircut)|       73613|\n",
      "|            Iron_Man|       69772|\n",
      "|International_Mat...|       64475|\n",
      "|Pirates_of_the_Ca...|       63517|\n",
      "|            Asbestos|       62987|\n",
      "|       Benjaman_Kyle|       61130|\n",
      "|            New_Deal|       59854|\n",
      "|     Bobbie_Joe_Long|       59836|\n",
      "|        David_Reimer|       59136|\n",
      "+--------------------+------------+\n",
      "only showing top 20 rows\n",
      "\n"
     ]
    }
   ],
   "source": [
    "socialVolume = clickSocial.groupBy(clickSearch.curr_title).agg(F.sum('n').alias('total_social')).orderBy('total_social',ascending=False)\n",
    "socialVolume.show()"
   ]
  },
  {
   "cell_type": "markdown",
   "metadata": {
    "collapsed": true
   },
   "source": [
    "####  4.2 Analysis using Spark SQL"
   ]
  },
  {
   "cell_type": "code",
   "execution_count": 16,
   "metadata": {
    "collapsed": false
   },
   "outputs": [
    {
     "name": "stdout",
     "output_type": "stream",
     "text": [
      "+--------------------+------------+\n",
      "|          curr_title|total_search|\n",
      "+--------------------+------------+\n",
      "|    Johnny_Knoxville|      198976|\n",
      "|      Peter_Woodcock|      126378|\n",
      "|2002_Tampa_plane_...|      120955|\n",
      "|      Sơn_Đoòng_Cave|      116126|\n",
      "|       The_boy_Jones|      114524|\n",
      "|             War_pig|      114138|\n",
      "|William_Leonard_P...|      113906|\n",
      "|Hurt_(Nine_Inch_N...|      103562|\n",
      "|     Glass_recycling|       87995|\n",
      "|Assassination_of_...|       86445|\n",
      "|    Fury_(2014_film)|       80297|\n",
      "|    Mullet_(haircut)|       73613|\n",
      "|            Iron_Man|       69772|\n",
      "|International_Mat...|       64475|\n",
      "|Pirates_of_the_Ca...|       63517|\n",
      "|            Asbestos|       62987|\n",
      "|       Benjaman_Kyle|       61130|\n",
      "|            New_Deal|       59854|\n",
      "|     Bobbie_Joe_Long|       59836|\n",
      "|        David_Reimer|       59136|\n",
      "+--------------------+------------+\n",
      "only showing top 20 rows\n",
      "\n"
     ]
    }
   ],
   "source": [
    "clickSocialSQL = sqlCtx.sql(\"select curr_title,sum(n) as total_search from wikiclickstream where prev_title in ('other-twitter','other-facebook') group by curr_title order by total_search desc\")\n",
    "clickSocialSQL.show()"
   ]
  }
 ],
 "metadata": {
  "kernelspec": {
   "display_name": "Python 2",
   "language": "python",
   "name": "python2"
  },
  "language_info": {
   "codemirror_mode": {
    "name": "ipython",
    "version": 2
   },
   "file_extension": ".py",
   "mimetype": "text/x-python",
   "name": "python",
   "nbconvert_exporter": "python",
   "pygments_lexer": "ipython2",
   "version": "2.7.13"
  }
 },
 "nbformat": 4,
 "nbformat_minor": 2
}
